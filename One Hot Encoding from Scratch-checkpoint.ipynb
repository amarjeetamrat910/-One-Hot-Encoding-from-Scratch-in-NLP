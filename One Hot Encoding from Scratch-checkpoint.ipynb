{
 "cells": [
  {
   "cell_type": "code",
   "execution_count": 33,
   "id": "e46e884c",
   "metadata": {},
   "outputs": [],
   "source": [
    "from nltk.tokenize import sent_tokenize , word_tokenize"
   ]
  },
  {
   "cell_type": "code",
   "execution_count": 34,
   "id": "e1ded868",
   "metadata": {},
   "outputs": [],
   "source": [
    "corpus='''Dhruv Rathee is a prominent Indian YouTuber, activist, and political commentator known for his informative and analytical videos on social, political, and environmental issues. He started his YouTube channel in 2014 and has since gained a large following for his well-researched content and critical analysis of current affairs.\n",
    "\n",
    "Rathee's videos cover a wide range of topics, including government policies, environmental conservation, social justice, and political developments. He is known for his fact-checking and data-driven approach, often debunking misinformation and challenging mainstream narratives.\n",
    "\n",
    "Apart from YouTube, Rathee is active on other social media platforms, where he shares his views and engages with his audience. He is also known for his advocacy work, supporting causes related to sustainability, education, and political transparency.\n",
    "\n",
    "Rathee's videos have sparked discussions and debates on various issues, making him a key figure in India's digital media landscape. His content is often praised for its depth and clarity, attracting a diverse audience interested in understanding complex issues facing the country and the world.'''"
   ]
  },
  {
   "cell_type": "code",
   "execution_count": 35,
   "id": "64d48b11",
   "metadata": {},
   "outputs": [
    {
     "name": "stdout",
     "output_type": "stream",
     "text": [
      "['also', 'well-researched', 'current', 'have', 'he', 'a', 'commentator', 'fact-checking', 'social', 'critical', 'mainstream', 'Dhruv', 'including', 'with', 'discussions', 'various', 'known', 'content', 'facing', 'other', 'key', 'its', 'advocacy', 'understanding', 'He', 'misinformation', 'is', 'Rathee', 'for', 'country', 'the', 'issues', 'platforms', 'supporting', 'large', 'landscape', 'clarity', 'justice', 'challenging', 'praised', 'analytical', 'from', 'since', 'his', 'engages', 'attracting', 'on', 'YouTuber', 'where', 'wide', 'and', 'affairs', 'videos', 'transparency', 'Apart', 'following', 'media', 'policies', 'analysis', 'work', 'interested', 'YouTube', 'government', 'diverse', 'audience', 'causes', 'sparked', 'His', 'gained', 'to', 'him', 'in', 'channel', 'range', 'started', 'sustainability', 'Indian', 'of', 'depth', 'has', 'cover', 'environmental', 'figure', 'topics', '.', 'making', 'political', 'often', 'views', 'related', 'active', 'India', 'education', 'informative', '2014', 'conservation', 'shares', 'world', 'debunking', 'debates', 'data-driven', 'digital', 'prominent', 'activist', 'approach', 'narratives', \"'s\", 'complex', 'developments']\n"
     ]
    }
   ],
   "source": [
    "seq=set()\n",
    "for sent in sent_tokenize(corpus):\n",
    "    for word in word_tokenize(sent):\n",
    "         if( word!=\",\"):\n",
    "                seq.add(word)\n",
    "seq=list(seq)            \n",
    "print(seq)"
   ]
  },
  {
   "cell_type": "code",
   "execution_count": null,
   "id": "752fecad",
   "metadata": {},
   "outputs": [],
   "source": []
  },
  {
   "cell_type": "code",
   "execution_count": 36,
   "id": "18fb512d",
   "metadata": {},
   "outputs": [
    {
     "name": "stdout",
     "output_type": "stream",
     "text": [
      "Dhruv Rathee is a prominent Indian YouTuber, activist, and political commentator known for his informative and analytical videos on social, political, and environmental issues.\n",
      "11 Dhruv\n",
      "27 Rathee\n",
      "26 is\n",
      "5 a\n",
      "102 prominent\n",
      "76 Indian\n",
      "47 YouTuber\n",
      "103 activist\n",
      "50 and\n",
      "86 political\n",
      "6 commentator\n",
      "16 known\n",
      "28 for\n",
      "43 his\n",
      "93 informative\n",
      "50 and\n",
      "40 analytical\n",
      "52 videos\n",
      "46 on\n",
      "8 social\n",
      "86 political\n",
      "50 and\n",
      "81 environmental\n",
      "31 issues\n",
      "84 .\n",
      "He started his YouTube channel in 2014 and has since gained a large following for his well-researched content and critical analysis of current affairs.\n",
      "24 He\n",
      "74 started\n",
      "43 his\n",
      "61 YouTube\n",
      "72 channel\n",
      "71 in\n",
      "94 2014\n",
      "50 and\n",
      "79 has\n",
      "42 since\n",
      "68 gained\n",
      "5 a\n",
      "34 large\n",
      "55 following\n",
      "28 for\n",
      "43 his\n",
      "1 well-researched\n",
      "17 content\n",
      "50 and\n",
      "9 critical\n",
      "58 analysis\n",
      "77 of\n",
      "2 current\n",
      "51 affairs\n",
      "84 .\n",
      "Rathee's videos cover a wide range of topics, including government policies, environmental conservation, social justice, and political developments.\n",
      "27 Rathee\n",
      "106 's\n",
      "52 videos\n",
      "80 cover\n",
      "5 a\n",
      "49 wide\n",
      "73 range\n",
      "77 of\n",
      "83 topics\n",
      "12 including\n",
      "62 government\n",
      "57 policies\n",
      "81 environmental\n",
      "95 conservation\n",
      "8 social\n",
      "37 justice\n",
      "50 and\n",
      "86 political\n",
      "108 developments\n",
      "84 .\n",
      "He is known for his fact-checking and data-driven approach, often debunking misinformation and challenging mainstream narratives.\n",
      "24 He\n",
      "26 is\n",
      "16 known\n",
      "28 for\n",
      "43 his\n",
      "7 fact-checking\n",
      "50 and\n",
      "100 data-driven\n",
      "104 approach\n",
      "87 often\n",
      "98 debunking\n",
      "25 misinformation\n",
      "50 and\n",
      "38 challenging\n",
      "10 mainstream\n",
      "105 narratives\n",
      "84 .\n",
      "Apart from YouTube, Rathee is active on other social media platforms, where he shares his views and engages with his audience.\n",
      "54 Apart\n",
      "41 from\n",
      "61 YouTube\n",
      "27 Rathee\n",
      "26 is\n",
      "90 active\n",
      "46 on\n",
      "19 other\n",
      "8 social\n",
      "56 media\n",
      "32 platforms\n",
      "48 where\n",
      "4 he\n",
      "96 shares\n",
      "43 his\n",
      "88 views\n",
      "50 and\n",
      "44 engages\n",
      "13 with\n",
      "43 his\n",
      "64 audience\n",
      "84 .\n",
      "He is also known for his advocacy work, supporting causes related to sustainability, education, and political transparency.\n",
      "24 He\n",
      "26 is\n",
      "0 also\n",
      "16 known\n",
      "28 for\n",
      "43 his\n",
      "22 advocacy\n",
      "59 work\n",
      "33 supporting\n",
      "65 causes\n",
      "89 related\n",
      "69 to\n",
      "75 sustainability\n",
      "92 education\n",
      "50 and\n",
      "86 political\n",
      "53 transparency\n",
      "84 .\n",
      "Rathee's videos have sparked discussions and debates on various issues, making him a key figure in India's digital media landscape.\n",
      "27 Rathee\n",
      "106 's\n",
      "52 videos\n",
      "3 have\n",
      "66 sparked\n",
      "14 discussions\n",
      "50 and\n",
      "99 debates\n",
      "46 on\n",
      "15 various\n",
      "31 issues\n",
      "85 making\n",
      "70 him\n",
      "5 a\n",
      "20 key\n",
      "82 figure\n",
      "71 in\n",
      "91 India\n",
      "106 's\n",
      "101 digital\n",
      "56 media\n",
      "35 landscape\n",
      "84 .\n",
      "His content is often praised for its depth and clarity, attracting a diverse audience interested in understanding complex issues facing the country and the world.\n",
      "67 His\n",
      "17 content\n",
      "26 is\n",
      "87 often\n",
      "39 praised\n",
      "28 for\n",
      "21 its\n",
      "78 depth\n",
      "50 and\n",
      "36 clarity\n",
      "45 attracting\n",
      "5 a\n",
      "63 diverse\n",
      "64 audience\n",
      "60 interested\n",
      "71 in\n",
      "23 understanding\n",
      "107 complex\n",
      "31 issues\n",
      "18 facing\n",
      "30 the\n",
      "29 country\n",
      "50 and\n",
      "30 the\n",
      "97 world\n",
      "84 .\n"
     ]
    }
   ],
   "source": [
    "for sent in sent_tokenize(corpus):\n",
    "    print(sent)\n",
    "    for word in word_tokenize(sent):\n",
    "         if( word!=\",\"):\n",
    "                print(seq.index(word),word)"
   ]
  },
  {
   "cell_type": "code",
   "execution_count": 37,
   "id": "44e91c13",
   "metadata": {},
   "outputs": [
    {
     "name": "stdout",
     "output_type": "stream",
     "text": [
      "Dhruv Rathee is a prominent Indian YouTuber, activist, and political commentator known for his informative and analytical videos on social, political, and environmental issues.\n",
      "[11, 27, 26, 5, 102, 76, 47, 103, 50, 86, 6, 16, 28, 43, 93, 50, 40, 52, 46, 8, 86, 50, 81, 31, 84]\n",
      "He started his YouTube channel in 2014 and has since gained a large following for his well-researched content and critical analysis of current affairs.\n",
      "[24, 74, 43, 61, 72, 71, 94, 50, 79, 42, 68, 5, 34, 55, 28, 43, 1, 17, 50, 9, 58, 77, 2, 51, 84]\n",
      "Rathee's videos cover a wide range of topics, including government policies, environmental conservation, social justice, and political developments.\n",
      "[27, 106, 52, 80, 5, 49, 73, 77, 83, 12, 62, 57, 81, 95, 8, 37, 50, 86, 108, 84]\n",
      "He is known for his fact-checking and data-driven approach, often debunking misinformation and challenging mainstream narratives.\n",
      "[24, 26, 16, 28, 43, 7, 50, 100, 104, 87, 98, 25, 50, 38, 10, 105, 84]\n",
      "Apart from YouTube, Rathee is active on other social media platforms, where he shares his views and engages with his audience.\n",
      "[54, 41, 61, 27, 26, 90, 46, 19, 8, 56, 32, 48, 4, 96, 43, 88, 50, 44, 13, 43, 64, 84]\n",
      "He is also known for his advocacy work, supporting causes related to sustainability, education, and political transparency.\n",
      "[24, 26, 0, 16, 28, 43, 22, 59, 33, 65, 89, 69, 75, 92, 50, 86, 53, 84]\n",
      "Rathee's videos have sparked discussions and debates on various issues, making him a key figure in India's digital media landscape.\n",
      "[27, 106, 52, 3, 66, 14, 50, 99, 46, 15, 31, 85, 70, 5, 20, 82, 71, 91, 106, 101, 56, 35, 84]\n",
      "His content is often praised for its depth and clarity, attracting a diverse audience interested in understanding complex issues facing the country and the world.\n",
      "[67, 17, 26, 87, 39, 28, 21, 78, 50, 36, 45, 5, 63, 64, 60, 71, 23, 107, 31, 18, 30, 29, 50, 30, 97, 84]\n"
     ]
    }
   ],
   "source": [
    "for sent in sent_tokenize(corpus):\n",
    "    print(sent)\n",
    "    index=[]\n",
    "    for word in word_tokenize(sent):\n",
    "         if( word!=\",\"):\n",
    "                index.append(seq.index(word))\n",
    "    print(index)                \n",
    "                "
   ]
  },
  {
   "cell_type": "code",
   "execution_count": 38,
   "id": "25941e53",
   "metadata": {},
   "outputs": [
    {
     "name": "stdout",
     "output_type": "stream",
     "text": [
      "Dhruv Rathee is a prominent Indian YouTuber, activist, and political commentator known for his informative and analytical videos on social, political, and environmental issues.\n",
      "He started his YouTube channel in 2014 and has since gained a large following for his well-researched content and critical analysis of current affairs.\n",
      "Rathee's videos cover a wide range of topics, including government policies, environmental conservation, social justice, and political developments.\n",
      "He is known for his fact-checking and data-driven approach, often debunking misinformation and challenging mainstream narratives.\n",
      "Apart from YouTube, Rathee is active on other social media platforms, where he shares his views and engages with his audience.\n",
      "He is also known for his advocacy work, supporting causes related to sustainability, education, and political transparency.\n",
      "Rathee's videos have sparked discussions and debates on various issues, making him a key figure in India's digital media landscape.\n",
      "His content is often praised for its depth and clarity, attracting a diverse audience interested in understanding complex issues facing the country and the world.\n"
     ]
    }
   ],
   "source": [
    "data=[]\n",
    "for sent in sent_tokenize(corpus):\n",
    "    print(sent)\n",
    "    index=[]\n",
    "    for word in word_tokenize(sent):\n",
    "         if( word!=\",\"):\n",
    "                index.append(seq.index(word))\n",
    "    data.append(index)                \n",
    "                "
   ]
  },
  {
   "cell_type": "code",
   "execution_count": 39,
   "id": "202434cd",
   "metadata": {},
   "outputs": [
    {
     "name": "stdout",
     "output_type": "stream",
     "text": [
      "Dhruv Rathee is a prominent Indian YouTuber, activist, and political commentator known for his informative and analytical videos on social, political, and environmental issues.\n",
      "He started his YouTube channel in 2014 and has since gained a large following for his well-researched content and critical analysis of current affairs.\n",
      "Rathee's videos cover a wide range of topics, including government policies, environmental conservation, social justice, and political developments.\n",
      "He is known for his fact-checking and data-driven approach, often debunking misinformation and challenging mainstream narratives.\n",
      "Apart from YouTube, Rathee is active on other social media platforms, where he shares his views and engages with his audience.\n",
      "He is also known for his advocacy work, supporting causes related to sustainability, education, and political transparency.\n",
      "Rathee's videos have sparked discussions and debates on various issues, making him a key figure in India's digital media landscape.\n",
      "His content is often praised for its depth and clarity, attracting a diverse audience interested in understanding complex issues facing the country and the world.\n"
     ]
    }
   ],
   "source": [
    "data=[]\n",
    "for sent in sent_tokenize(corpus):\n",
    "    print(sent)\n",
    "    index=[]\n",
    "    for word in word_tokenize(sent):\n",
    "         if( word!=\",\"):\n",
    "                index.append(seq.index(word))\n",
    "    data.append(index)                \n",
    "                "
   ]
  },
  {
   "cell_type": "code",
   "execution_count": 40,
   "id": "30d48f3b",
   "metadata": {},
   "outputs": [
    {
     "name": "stdout",
     "output_type": "stream",
     "text": [
      "[[11, 27, 26, 5, 102, 76, 47, 103, 50, 86, 6, 16, 28, 43, 93, 50, 40, 52, 46, 8, 86, 50, 81, 31, 84], [24, 74, 43, 61, 72, 71, 94, 50, 79, 42, 68, 5, 34, 55, 28, 43, 1, 17, 50, 9, 58, 77, 2, 51, 84], [27, 106, 52, 80, 5, 49, 73, 77, 83, 12, 62, 57, 81, 95, 8, 37, 50, 86, 108, 84], [24, 26, 16, 28, 43, 7, 50, 100, 104, 87, 98, 25, 50, 38, 10, 105, 84], [54, 41, 61, 27, 26, 90, 46, 19, 8, 56, 32, 48, 4, 96, 43, 88, 50, 44, 13, 43, 64, 84], [24, 26, 0, 16, 28, 43, 22, 59, 33, 65, 89, 69, 75, 92, 50, 86, 53, 84], [27, 106, 52, 3, 66, 14, 50, 99, 46, 15, 31, 85, 70, 5, 20, 82, 71, 91, 106, 101, 56, 35, 84], [67, 17, 26, 87, 39, 28, 21, 78, 50, 36, 45, 5, 63, 64, 60, 71, 23, 107, 31, 18, 30, 29, 50, 30, 97, 84]] "
     ]
    }
   ],
   "source": [
    "print(data,end=\" \")"
   ]
  },
  {
   "cell_type": "code",
   "execution_count": 41,
   "id": "8ae3a6a2",
   "metadata": {},
   "outputs": [
    {
     "data": {
      "text/plain": [
       "[0,\n",
       " 0,\n",
       " 0,\n",
       " 0,\n",
       " 0,\n",
       " 0,\n",
       " 0,\n",
       " 0,\n",
       " 0,\n",
       " 0,\n",
       " 0,\n",
       " 0,\n",
       " 0,\n",
       " 0,\n",
       " 0,\n",
       " 0,\n",
       " 0,\n",
       " 0,\n",
       " 0,\n",
       " 0,\n",
       " 0,\n",
       " 0,\n",
       " 0,\n",
       " 0,\n",
       " 0,\n",
       " 0,\n",
       " 0,\n",
       " 0,\n",
       " 0,\n",
       " 0,\n",
       " 0,\n",
       " 0,\n",
       " 0,\n",
       " 0,\n",
       " 0,\n",
       " 0,\n",
       " 0,\n",
       " 0,\n",
       " 0,\n",
       " 0,\n",
       " 0,\n",
       " 0,\n",
       " 0,\n",
       " 0,\n",
       " 0,\n",
       " 0,\n",
       " 0,\n",
       " 0,\n",
       " 0,\n",
       " 0,\n",
       " 0,\n",
       " 0,\n",
       " 0,\n",
       " 0,\n",
       " 0,\n",
       " 0,\n",
       " 0,\n",
       " 0,\n",
       " 0,\n",
       " 0,\n",
       " 0,\n",
       " 0,\n",
       " 0,\n",
       " 0,\n",
       " 0,\n",
       " 0,\n",
       " 0,\n",
       " 0,\n",
       " 0,\n",
       " 0,\n",
       " 0,\n",
       " 0,\n",
       " 0,\n",
       " 0,\n",
       " 0,\n",
       " 0,\n",
       " 0,\n",
       " 0,\n",
       " 0,\n",
       " 0,\n",
       " 0,\n",
       " 0,\n",
       " 0,\n",
       " 0,\n",
       " 0,\n",
       " 0,\n",
       " 0,\n",
       " 0,\n",
       " 0,\n",
       " 0,\n",
       " 0,\n",
       " 0,\n",
       " 0,\n",
       " 0,\n",
       " 0,\n",
       " 0,\n",
       " 0,\n",
       " 0,\n",
       " 0,\n",
       " 0,\n",
       " 0,\n",
       " 0,\n",
       " 0,\n",
       " 0,\n",
       " 0,\n",
       " 0,\n",
       " 0,\n",
       " 0,\n",
       " 0]"
      ]
     },
     "execution_count": 41,
     "metadata": {},
     "output_type": "execute_result"
    }
   ],
   "source": [
    "enc=[0 for x in range(len(seq))]\n",
    "enc   "
   ]
  },
  {
   "cell_type": "code",
   "execution_count": 42,
   "id": "7e40858e",
   "metadata": {},
   "outputs": [],
   "source": [
    "fin=[]\n",
    "for indexes in data:\n",
    "    enc=[0 for x in range(len(seq))]\n",
    "    for index in indexes:\n",
    "        enc[index]=1\n",
    "    fin.append(enc)"
   ]
  },
  {
   "cell_type": "code",
   "execution_count": 43,
   "id": "bf0cfc69",
   "metadata": {},
   "outputs": [
    {
     "name": "stdout",
     "output_type": "stream",
     "text": [
      "[[0, 0, 0, 0, 0, 1, 1, 0, 1, 0, 0, 1, 0, 0, 0, 0, 1, 0, 0, 0, 0, 0, 0, 0, 0, 0, 1, 1, 1, 0, 0, 1, 0, 0, 0, 0, 0, 0, 0, 0, 1, 0, 0, 1, 0, 0, 1, 1, 0, 0, 1, 0, 1, 0, 0, 0, 0, 0, 0, 0, 0, 0, 0, 0, 0, 0, 0, 0, 0, 0, 0, 0, 0, 0, 0, 0, 1, 0, 0, 0, 0, 1, 0, 0, 1, 0, 1, 0, 0, 0, 0, 0, 0, 1, 0, 0, 0, 0, 0, 0, 0, 0, 1, 1, 0, 0, 0, 0, 0], [0, 1, 1, 0, 0, 1, 0, 0, 0, 1, 0, 0, 0, 0, 0, 0, 0, 1, 0, 0, 0, 0, 0, 0, 1, 0, 0, 0, 1, 0, 0, 0, 0, 0, 1, 0, 0, 0, 0, 0, 0, 0, 1, 1, 0, 0, 0, 0, 0, 0, 1, 1, 0, 0, 0, 1, 0, 0, 1, 0, 0, 1, 0, 0, 0, 0, 0, 0, 1, 0, 0, 1, 1, 0, 1, 0, 0, 1, 0, 1, 0, 0, 0, 0, 1, 0, 0, 0, 0, 0, 0, 0, 0, 0, 1, 0, 0, 0, 0, 0, 0, 0, 0, 0, 0, 0, 0, 0, 0], [0, 0, 0, 0, 0, 1, 0, 0, 1, 0, 0, 0, 1, 0, 0, 0, 0, 0, 0, 0, 0, 0, 0, 0, 0, 0, 0, 1, 0, 0, 0, 0, 0, 0, 0, 0, 0, 1, 0, 0, 0, 0, 0, 0, 0, 0, 0, 0, 0, 1, 1, 0, 1, 0, 0, 0, 0, 1, 0, 0, 0, 0, 1, 0, 0, 0, 0, 0, 0, 0, 0, 0, 0, 1, 0, 0, 0, 1, 0, 0, 1, 1, 0, 1, 1, 0, 1, 0, 0, 0, 0, 0, 0, 0, 0, 1, 0, 0, 0, 0, 0, 0, 0, 0, 0, 0, 1, 0, 1], [0, 0, 0, 0, 0, 0, 0, 1, 0, 0, 1, 0, 0, 0, 0, 0, 1, 0, 0, 0, 0, 0, 0, 0, 1, 1, 1, 0, 1, 0, 0, 0, 0, 0, 0, 0, 0, 0, 1, 0, 0, 0, 0, 1, 0, 0, 0, 0, 0, 0, 1, 0, 0, 0, 0, 0, 0, 0, 0, 0, 0, 0, 0, 0, 0, 0, 0, 0, 0, 0, 0, 0, 0, 0, 0, 0, 0, 0, 0, 0, 0, 0, 0, 0, 1, 0, 0, 1, 0, 0, 0, 0, 0, 0, 0, 0, 0, 0, 1, 0, 1, 0, 0, 0, 1, 1, 0, 0, 0], [0, 0, 0, 0, 1, 0, 0, 0, 1, 0, 0, 0, 0, 1, 0, 0, 0, 0, 0, 1, 0, 0, 0, 0, 0, 0, 1, 1, 0, 0, 0, 0, 1, 0, 0, 0, 0, 0, 0, 0, 0, 1, 0, 1, 1, 0, 1, 0, 1, 0, 1, 0, 0, 0, 1, 0, 1, 0, 0, 0, 0, 1, 0, 0, 1, 0, 0, 0, 0, 0, 0, 0, 0, 0, 0, 0, 0, 0, 0, 0, 0, 0, 0, 0, 1, 0, 0, 0, 1, 0, 1, 0, 0, 0, 0, 0, 1, 0, 0, 0, 0, 0, 0, 0, 0, 0, 0, 0, 0], [1, 0, 0, 0, 0, 0, 0, 0, 0, 0, 0, 0, 0, 0, 0, 0, 1, 0, 0, 0, 0, 0, 1, 0, 1, 0, 1, 0, 1, 0, 0, 0, 0, 1, 0, 0, 0, 0, 0, 0, 0, 0, 0, 1, 0, 0, 0, 0, 0, 0, 1, 0, 0, 1, 0, 0, 0, 0, 0, 1, 0, 0, 0, 0, 0, 1, 0, 0, 0, 1, 0, 0, 0, 0, 0, 1, 0, 0, 0, 0, 0, 0, 0, 0, 1, 0, 1, 0, 0, 1, 0, 0, 1, 0, 0, 0, 0, 0, 0, 0, 0, 0, 0, 0, 0, 0, 0, 0, 0], [0, 0, 0, 1, 0, 1, 0, 0, 0, 0, 0, 0, 0, 0, 1, 1, 0, 0, 0, 0, 1, 0, 0, 0, 0, 0, 0, 1, 0, 0, 0, 1, 0, 0, 0, 1, 0, 0, 0, 0, 0, 0, 0, 0, 0, 0, 1, 0, 0, 0, 1, 0, 1, 0, 0, 0, 1, 0, 0, 0, 0, 0, 0, 0, 0, 0, 1, 0, 0, 0, 1, 1, 0, 0, 0, 0, 0, 0, 0, 0, 0, 0, 1, 0, 1, 1, 0, 0, 0, 0, 0, 1, 0, 0, 0, 0, 0, 0, 0, 1, 0, 1, 0, 0, 0, 0, 1, 0, 0], [0, 0, 0, 0, 0, 1, 0, 0, 0, 0, 0, 0, 0, 0, 0, 0, 0, 1, 1, 0, 0, 1, 0, 1, 0, 0, 1, 0, 1, 1, 1, 1, 0, 0, 0, 0, 1, 0, 0, 1, 0, 0, 0, 0, 0, 1, 0, 0, 0, 0, 1, 0, 0, 0, 0, 0, 0, 0, 0, 0, 1, 0, 0, 1, 1, 0, 0, 1, 0, 0, 0, 1, 0, 0, 0, 0, 0, 0, 1, 0, 0, 0, 0, 0, 1, 0, 0, 1, 0, 0, 0, 0, 0, 0, 0, 0, 0, 1, 0, 0, 0, 0, 0, 0, 0, 0, 0, 1, 0]]\n"
     ]
    }
   ],
   "source": [
    "print(fin)"
   ]
  },
  {
   "cell_type": "code",
   "execution_count": 44,
   "id": "1a127564",
   "metadata": {},
   "outputs": [
    {
     "name": "stdout",
     "output_type": "stream",
     "text": [
      "['Dhruv Rathee is a prominent Indian YouTuber, activist, and political commentator known for his informative and analytical videos on social, political, and environmental issues.', 'He started his YouTube channel in 2014 and has since gained a large following for his well-researched content and critical analysis of current affairs.', \"Rathee's videos cover a wide range of topics, including government policies, environmental conservation, social justice, and political developments.\", 'He is known for his fact-checking and data-driven approach, often debunking misinformation and challenging mainstream narratives.', 'Apart from YouTube, Rathee is active on other social media platforms, where he shares his views and engages with his audience.', 'He is also known for his advocacy work, supporting causes related to sustainability, education, and political transparency.', \"Rathee's videos have sparked discussions and debates on various issues, making him a key figure in India's digital media landscape.\", 'His content is often praised for its depth and clarity, attracting a diverse audience interested in understanding complex issues facing the country and the world.']\n"
     ]
    }
   ],
   "source": [
    "print(sent_tokenize(corpus))"
   ]
  },
  {
   "cell_type": "code",
   "execution_count": null,
   "id": "bd2bb355",
   "metadata": {},
   "outputs": [],
   "source": []
  },
  {
   "cell_type": "code",
   "execution_count": null,
   "id": "99bd0834",
   "metadata": {},
   "outputs": [],
   "source": []
  },
  {
   "cell_type": "code",
   "execution_count": null,
   "id": "bc69b6ac",
   "metadata": {},
   "outputs": [],
   "source": []
  },
  {
   "cell_type": "code",
   "execution_count": null,
   "id": "f73500df",
   "metadata": {},
   "outputs": [],
   "source": []
  }
 ],
 "metadata": {
  "kernelspec": {
   "display_name": "Python 3 (ipykernel)",
   "language": "python",
   "name": "python3"
  },
  "language_info": {
   "codemirror_mode": {
    "name": "ipython",
    "version": 3
   },
   "file_extension": ".py",
   "mimetype": "text/x-python",
   "name": "python",
   "nbconvert_exporter": "python",
   "pygments_lexer": "ipython3",
   "version": "3.11.4"
  }
 },
 "nbformat": 4,
 "nbformat_minor": 5
}
